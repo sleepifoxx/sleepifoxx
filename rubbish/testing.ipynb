{
 "cells": [
  {
   "cell_type": "code",
   "execution_count": 54,
   "id": "604daf69",
   "metadata": {},
   "outputs": [],
   "source": [
    "import gymnasium as gym\n",
    "from gymnasium.wrappers import RecordVideo\n",
    "from collections import deque\n",
    "import torch\n",
    "import torch.nn as nn\n",
    "import matplotlib.pyplot as plt\n",
    "import numpy as np\n",
    "import random\n",
    "import glob\n",
    "from IPython.display import Video\n",
    "from tqdm import tqdm"
   ]
  },
  {
   "cell_type": "code",
   "execution_count": 55,
   "id": "75cfc26c",
   "metadata": {},
   "outputs": [],
   "source": [
    "class QNetwork(nn.Module):\n",
    "    def __init__(self, state_dim, action_dim):\n",
    "        super().__init__()\n",
    "        self.model = nn.Sequential(\n",
    "            nn.Linear(state_dim, 256),\n",
    "            nn.ReLU(),\n",
    "            nn.Linear(256, 256),\n",
    "            nn.ReLU(),\n",
    "            nn.Linear(256, 256),\n",
    "            nn.ReLU(),\n",
    "            nn.Linear(256, action_dim)\n",
    "        )\n",
    "\n",
    "    def forward(self, x):\n",
    "        return self.model(x)"
   ]
  },
  {
   "cell_type": "code",
   "execution_count": 56,
   "id": "14f94bfb",
   "metadata": {},
   "outputs": [],
   "source": [
    "target_net = QNetwork(8, 4)"
   ]
  },
  {
   "cell_type": "code",
   "execution_count": 57,
   "id": "33545db4",
   "metadata": {},
   "outputs": [
    {
     "name": "stderr",
     "output_type": "stream",
     "text": [
      "/tmp/ipykernel_14185/2506464939.py:1: FutureWarning: You are using `torch.load` with `weights_only=False` (the current default value), which uses the default pickle module implicitly. It is possible to construct malicious pickle data which will execute arbitrary code during unpickling (See https://github.com/pytorch/pytorch/blob/main/SECURITY.md#untrusted-models for more details). In a future release, the default value for `weights_only` will be flipped to `True`. This limits the functions that could be executed during unpickling. Arbitrary objects will no longer be allowed to be loaded via this mode unless they are explicitly allowlisted by the user via `torch.serialization.add_safe_globals`. We recommend you start setting `weights_only=True` for any use case where you don't have full control of the loaded file. Please open an issue on GitHub for any issues related to this experimental feature.\n",
      "  target_net.load_state_dict(torch.load(\"lunarlander-wind-3k.pth\"))\n"
     ]
    },
    {
     "data": {
      "text/plain": [
       "<All keys matched successfully>"
      ]
     },
     "execution_count": 57,
     "metadata": {},
     "output_type": "execute_result"
    }
   ],
   "source": [
    "target_net.load_state_dict(torch.load(\"lunarlander-wind-3k.pth\"))"
   ]
  },
  {
   "cell_type": "code",
   "execution_count": 58,
   "id": "8313a15e",
   "metadata": {},
   "outputs": [],
   "source": [
    "mean_rewards = 0"
   ]
  },
  {
   "cell_type": "code",
   "execution_count": 59,
   "id": "46ca6cbb",
   "metadata": {},
   "outputs": [
    {
     "name": "stderr",
     "output_type": "stream",
     "text": [
      "100%|██████████| 500/500 [07:08<00:00,  1.17it/s]"
     ]
    },
    {
     "name": "stdout",
     "output_type": "stream",
     "text": [
      "Mean reward: 225.29876652556752\n",
      "Total done: 393/500, percentage: 78.60000000000001%\n"
     ]
    },
    {
     "name": "stderr",
     "output_type": "stream",
     "text": [
      "\n"
     ]
    }
   ],
   "source": [
    "testing = gym.make(\"LunarLander-v3\", render_mode=\"rgb_array\",gravity=-10.0, enable_wind=True, wind_power=15.0, turbulence_power=1.5)\n",
    "testing = RecordVideo(testing, video_folder=\"video_folder\",episode_trigger=lambda ep: ep % 50 == 0, name_prefix=\"lunar_lander\", disable_logger=True)\n",
    "total_success = 0\n",
    "for _ in tqdm(range(500)):\n",
    "    state, _ = testing.reset()\n",
    "    done = False\n",
    "    total_reward = 0\n",
    "    while not done:\n",
    "        action = target_net(torch.FloatTensor(state).unsqueeze(0)).argmax().item()\n",
    "        next_state, reward, terminated, truncated, _ = testing.step(action)\n",
    "        total_reward += reward\n",
    "        done = terminated or truncated\n",
    "        state = next_state\n",
    "        testing.render()\n",
    "\n",
    "    if(total_reward >= 200):\n",
    "        total_success += 1\n",
    "    mean_rewards += total_reward\n",
    "mean_rewards /= 500\n",
    "print(f\"Mean reward: {mean_rewards}\")\n",
    "print(f\"Total done: {total_success}/500, percentage: {total_success/500*100}%\")\n",
    "\n",
    "testing.close()"
   ]
  }
 ],
 "metadata": {
  "kernelspec": {
   "display_name": "Python 3",
   "language": "python",
   "name": "python3"
  },
  "language_info": {
   "codemirror_mode": {
    "name": "ipython",
    "version": 3
   },
   "file_extension": ".py",
   "mimetype": "text/x-python",
   "name": "python",
   "nbconvert_exporter": "python",
   "pygments_lexer": "ipython3",
   "version": "3.12.1"
  }
 },
 "nbformat": 4,
 "nbformat_minor": 5
}
