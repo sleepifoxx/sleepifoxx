{
 "cells": [
  {
   "cell_type": "code",
   "execution_count": 47,
   "id": "02a1c1a1",
   "metadata": {},
   "outputs": [],
   "source": [
    "import gymnasium as gym\n",
    "from stable_baselines3 import PPO\n",
    "from tqdm import tqdm\n",
    "env = gym.make(\"LunarLander-v3\")\n",
    "\n",
    "model = PPO(\"MlpPolicy\", env, verbose=0)\n",
    "model.learn(total_timesteps=10000)\n",
    "model.save(\"ppo_lunarlander\")\n",
    "model = PPO.load(\"ppo_lunarlander\")"
   ]
  },
  {
   "cell_type": "code",
   "execution_count": null,
   "id": "ba579b13",
   "metadata": {},
   "outputs": [
    {
     "name": "stderr",
     "output_type": "stream",
     "text": [
      "100%|██████████| 500/500 [00:23<00:00, 21.11it/s]"
     ]
    },
    {
     "name": "stdout",
     "output_type": "stream",
     "text": [
      "Success rate: 0.00%\n"
     ]
    },
    {
     "name": "stderr",
     "output_type": "stream",
     "text": [
      "\n"
     ]
    }
   ],
   "source": [
    "video_render = gym.make(\"LunarLander-v3\", render_mode=\"rgb_array\")\n",
    "# video_render = gym.wrappers.RecordVideo(video_render, \"video\", episode_trigger=lambda x: True, name_prefix=\"ppo-lunarlander\")\n",
    "sample_episode = 500\n",
    "total_reward = 0\n",
    "total_success = 0\n",
    "for _ in tqdm(range(sample_episode)):\n",
    "    state, _ = video_render.reset()\n",
    "    done = False\n",
    "    while not done:\n",
    "        action = model.predict(state)\n",
    "        state, reward, terminated, truncated, _ = video_render.step(action)\n",
    "        total_reward += reward\n",
    "        done = terminated or truncated\n",
    "        if done:\n",
    "            if(total_reward > 200):\n",
    "                total_success += 1\n",
    "            total_reward = 0\n",
    "print(f\"Success rate: {total_success/sample_episode * 100:.2f}%\")\n",
    "video_render.close()"
   ]
  }
 ],
 "metadata": {
  "kernelspec": {
   "display_name": "Python 3",
   "language": "python",
   "name": "python3"
  },
  "language_info": {
   "codemirror_mode": {
    "name": "ipython",
    "version": 3
   },
   "file_extension": ".py",
   "mimetype": "text/x-python",
   "name": "python",
   "nbconvert_exporter": "python",
   "pygments_lexer": "ipython3",
   "version": "3.12.1"
  }
 },
 "nbformat": 4,
 "nbformat_minor": 5
}
